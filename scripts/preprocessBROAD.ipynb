{
 "cells": [
  {
   "cell_type": "code",
   "execution_count": 1,
   "metadata": {},
   "outputs": [],
   "source": [
    "%matplotlib inline\n",
    "\n",
    "import matplotlib.pyplot as plt\n",
    "import numpy as np\n",
    "import warnings\n",
    "import glob\n",
    "\n",
    "from skimage.filters import threshold_otsu\n",
    "from skimage.feature import blob_dog\n",
    "from pandas import read_csv\n",
    "from skimage import io\n",
    "\n",
    "plt.rcParams[\"figure.figsize\"] = (20, 20)\n",
    "plt.rcParams[\"image.cmap\"] = \"gray\"\n",
    "warnings.filterwarnings(\"ignore\")"
   ]
  },
  {
   "cell_type": "code",
   "execution_count": 2,
   "metadata": {},
   "outputs": [
    {
     "data": {
      "text/plain": [
       "(13200, 13)"
      ]
     },
     "execution_count": 2,
     "metadata": {},
     "output_type": "execute_result"
    }
   ],
   "source": [
    "data = read_csv(\"./Data/BBBC021_v1_image.csv\")\n",
    "\n",
    "data.shape"
   ]
  },
  {
   "cell_type": "code",
   "execution_count": 3,
   "metadata": {},
   "outputs": [
    {
     "data": {
      "text/plain": [
       "TableNumber                                                                     4\n",
       "ImageNumber                                                                   233\n",
       "Image_FileName_DAPI             G10_s1_w1BEDC2073-A983-4B98-95E9-84466707A25D.tif\n",
       "Image_PathName_DAPI                                             Week4/Week4_27481\n",
       "Image_FileName_Tubulin          G10_s1_w2DCEC82F3-05F7-4F2F-B779-C5DF9698141E.tif\n",
       "Image_PathName_Tubulin                                          Week4/Week4_27481\n",
       "Image_FileName_Actin            G10_s1_w43CD51CBC-2370-471F-BA01-EE250B14B3C8.tif\n",
       "Image_PathName_Actin                                            Week4/Week4_27481\n",
       "Image_Metadata_Plate_DAPI                                             Week4_27481\n",
       "Image_Metadata_Well_DAPI                                                      G10\n",
       "Replicate                                                                       1\n",
       "Image_Metadata_Compound                                            5-fluorouracil\n",
       "Image_Metadata_Concentration                                                0.003\n",
       "Name: 0, dtype: object"
      ]
     },
     "execution_count": 3,
     "metadata": {},
     "output_type": "execute_result"
    }
   ],
   "source": [
    "data.iloc[0]"
   ]
  },
  {
   "cell_type": "code",
   "execution_count": 4,
   "metadata": {},
   "outputs": [],
   "source": [
    "weeks = sorted(glob.glob(\"./DAPI/*/\"))"
   ]
  },
  {
   "cell_type": "code",
   "execution_count": 5,
   "metadata": {
    "scrolled": false
   },
   "outputs": [
    {
     "name": "stdout",
     "output_type": "stream",
     "text": [
      "0 ./DAPI/Week1/\n",
      "2\n"
     ]
    }
   ],
   "source": [
    "patches = []\n",
    "labels = []\n",
    "\n",
    "for index, week in enumerate(weeks[: 1]):\n",
    "    print(index, week)\n",
    "    files = glob.glob(week + \"*.jpeg\")[: 2]\n",
    "    print(len(files)).\n",
    "    for file in files:\n",
    "        #plt.figure(figsize = (20, 20));\n",
    "        w = file.split(\"/\")[-2]\n",
    "        row = file.split(\"/\")[-1].split(\".\")[0] + \".tif\"\n",
    "        #print(file)\n",
    "        #print(w)\n",
    "        #print(row)\n",
    "        element = data[data[\"Image_FileName_DAPI\"] == row].reset_index(drop = True)\n",
    "        tubulin_path = \"./Tubulin/\" + w + \"/\" + element.loc[0, \"Image_FileName_Tubulin\"].split(\".\")[-2] + \".jpeg\"\n",
    "        actin_path = \"./Actin/\" + w + \"/\" + element.loc[0, \"Image_FileName_Actin\"].split(\".\")[-2] + \".jpeg\"\n",
    "        #plt.figure();\n",
    "        image = io.imread(file)\n",
    "        image_tubulin = io.imread(tubulin_path)\n",
    "        image_actin = io.imread(actin_path)\n",
    "        #_, axes = plt.subplots(nrows = 1, ncols = 3, figsize = (20, 20));\n",
    "        #axes[0].imshow(image);\n",
    "        #axes[1].imshow(image_tubulin);\n",
    "        #axes[2].imshow(image_actin);\n",
    "        #plt.show()\n",
    "        thresh = threshold_otsu(image)\n",
    "        binary_image = (image > thresh)\n",
    "        blobs = blob_dog(binary_image, min_sigma = 0.1, sigma_ratio = 5)\n",
    "        for blob in blobs:\n",
    "            y, x, r = blob\n",
    "            if int(x) > 64 and int(y) > 64 and (int(x) < image.shape[1] - 64) and (int(y) < image.shape[0] - 64):\n",
    "                x, y = int(x), int(y)\n",
    "                if binary_image[y, x] == True:\n",
    "                    #plt.imshow(image[y - 64: y + 64, x - 64: x + 64])\n",
    "                    #plt.scatter(x, y, color = \"red\", marker = \"+\");\n",
    "                    patch = image[y - 64: y + 64, x - 64: x + 64]\n",
    "                    patch_tubulin = image_tubulin[y - 64: y + 64, x - 64: x + 64]\n",
    "                    patch_actin = image_actin[y - 64: y + 64, x - 64: x + 64]\n",
    "                    #_, axes = plt.subplots(nrows = 1, ncols = 3, figsize = (20, 20));\n",
    "                    #axes[0].imshow(patch);\n",
    "                    #axes[1].imshow(patch_tubulin);\n",
    "                    #axes[2].imshow(patch_actin);\n",
    "                    #plt.show();\n",
    "                    temp = np.stack((patch, patch_tubulin, patch_actin), axis = 2)\n",
    "                    patches.append(temp)\n",
    "                    labels.append(index)\n",
    "        #plt.imshow(binary_image);\n",
    "    \n",
    "patches = np.stack(patches)\n",
    "labels = np.array(labels)"
   ]
  },
  {
   "cell_type": "code",
   "execution_count": 6,
   "metadata": {},
   "outputs": [
    {
     "data": {
      "text/plain": [
       "(148, 128, 128, 3)"
      ]
     },
     "execution_count": 6,
     "metadata": {},
     "output_type": "execute_result"
    }
   ],
   "source": [
    "patches.shape"
   ]
  },
  {
   "cell_type": "code",
   "execution_count": 7,
   "metadata": {},
   "outputs": [
    {
     "data": {
      "text/plain": [
       "(148,)"
      ]
     },
     "execution_count": 7,
     "metadata": {},
     "output_type": "execute_result"
    }
   ],
   "source": [
    "labels.shape"
   ]
  }
 ],
 "metadata": {
  "kernelspec": {
   "display_name": "Python 3",
   "language": "python",
   "name": "python3"
  },
  "language_info": {
   "codemirror_mode": {
    "name": "ipython",
    "version": 3
   },
   "file_extension": ".py",
   "mimetype": "text/x-python",
   "name": "python",
   "nbconvert_exporter": "python",
   "pygments_lexer": "ipython3",
   "version": "3.6.8"
  }
 },
 "nbformat": 4,
 "nbformat_minor": 2
}
